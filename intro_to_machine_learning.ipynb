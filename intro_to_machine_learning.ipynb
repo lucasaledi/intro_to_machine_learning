{
 "cells": [
  {
   "cell_type": "markdown",
   "metadata": {},
   "source": [
    "# Introduction to Machine Learning\n",
    "## by Lucas Aledi\n",
    "#### based on [Udacity's Data Analyst Nanodegree extracurricular](https://www.udacity.com/course/data-analyst-nanodegree--nd002?utm_source=gsem_brand&utm_medium=ads_n&utm_campaign=8305564265_c&utm_term=89468963430&utm_keyword=udacity%20data%20analyst_e&gclid=CjwKCAiA6aSABhApEiwA6Cbm_-5FeQPY08ttIzuVyM-8dod7Mjd3kDrgRi3U-WVK2nOTPLOWkCX9sBoC4h0QAvD_BwE)"
   ]
  },
  {
   "cell_type": "markdown",
   "metadata": {},
   "source": [
    "## <a href=#table>Table of contents</a>\n",
    "### <a href=#lesson1>Lesson 1 - Welcome to Machine Learning</a>\n",
    "### <a href=#lesson2>Lesson 2 - Naive Bayes</a>\n",
    "### <a href=#lesson3>Lesson 3 - SVM</a>\n",
    "### <a href=#lesson4>Lesson 4 - Decision Trees</a>\n",
    "### <a href=#lesson5>Lesson 5 - Choose Your Own Algorithm</a>\n",
    "### <a href=#lesson6>Lesson 6 - Datasets and Questions</a>\n",
    "### <a href=#lesson7>Lesson 7 - Regressions</a>\n",
    "### <a href=#lesson8>Lesson 8 - Outliers</a>\n",
    "### <a href=#lesson9>Lesson 9 - Clustering</a>\n",
    "### <a href=#lesson10>Lesson 10 - Feature Scaling</a>\n",
    "### <a href=#lesson11>Lesson 11 - Text Learning</a>\n",
    "### <a href=#lesson12>Lesson 12 - Feature Selection</a>\n",
    "### <a href=#lesson13>Lesson 13 - PCA</a>\n",
    "### <a href=#lesson14>Lesson 14 - Validation</a>\n",
    "### <a href=#lesson15>Lesson 15 - Evaluation Metrics</a>\n",
    "### <a href=#lesson16>Lesson 16 - Tying It All Together</a>\n",
    "### <a href=#references>References</a>"
   ]
  },
  {
   "cell_type": "markdown",
   "metadata": {},
   "source": [
    "[Back to top](#table)\n",
    "# <a id=lesson1 >Lesson 1 - Welcome to Machine Learning</a>"
   ]
  },
  {
   "cell_type": "markdown",
   "metadata": {},
   "source": [
    "[Back to top](#table)\n",
    "# <a id=lesson2>Lesson 2 - Naive Bayes</a>"
   ]
  },
  {
   "cell_type": "markdown",
   "metadata": {},
   "source": [
    "[Back to top](#table)\n",
    "# <a id=lesson3>Lesson 3 - SVM</a>"
   ]
  },
  {
   "cell_type": "markdown",
   "metadata": {},
   "source": [
    "[Back to top](#table)\n",
    "# <a href=lesson4>Lesson 4 - Decision Trees</a>\n"
   ]
  },
  {
   "cell_type": "markdown",
   "metadata": {},
   "source": [
    "[Back to top](#table)\n",
    "# <a id=lesson5>Lesson 5 - Choose Your Own Algorithm</a>\n"
   ]
  },
  {
   "cell_type": "markdown",
   "metadata": {},
   "source": [
    "[Back to top](#table)\n",
    "# <a id=lesson6>Lesson 6 - Datasets and Questions</a>\n"
   ]
  },
  {
   "cell_type": "markdown",
   "metadata": {},
   "source": [
    "[Back to top](#table)\n",
    "# <a id=lesson7>Lesson 7 - Regressions</a>\n"
   ]
  },
  {
   "cell_type": "markdown",
   "metadata": {},
   "source": [
    "[Back to top](#table)\n",
    "# <a id=lesson8>Lesson 8 - Outliers</a>\n"
   ]
  },
  {
   "cell_type": "markdown",
   "metadata": {},
   "source": [
    "[Back to top](#table)\n",
    "# <a id=lesson9>Lesson 9 - Clustering</a>\n"
   ]
  },
  {
   "cell_type": "markdown",
   "metadata": {},
   "source": [
    "[Back to top](#table)\n",
    "# <a id=lesson10>Lesson 10 - Feature Scaling</a>\n"
   ]
  },
  {
   "cell_type": "markdown",
   "metadata": {},
   "source": [
    "[Back to top](#table)\n",
    "# <a id=lesson11>Lesson 11 - Text Learning</a>\n"
   ]
  },
  {
   "cell_type": "markdown",
   "metadata": {},
   "source": [
    "[Back to top](#table)\n",
    "# <a id=lesson12>Lesson 12 - Feature Selection</a>\n"
   ]
  },
  {
   "cell_type": "markdown",
   "metadata": {},
   "source": [
    "[Back to top](#table)\n",
    "# <a id=lesson13>Lesson 13 - PCA</a>\n"
   ]
  },
  {
   "cell_type": "markdown",
   "metadata": {},
   "source": [
    "[Back to top](#table)\n",
    "# <a id=lesson14>Lesson 14 - Validation</a>\n"
   ]
  },
  {
   "cell_type": "markdown",
   "metadata": {},
   "source": [
    "[Back to top](#table)\n",
    "# <a id=lesson15>Lesson 15 - Evaluation Metrics</a>\n"
   ]
  },
  {
   "cell_type": "markdown",
   "metadata": {},
   "source": [
    "[Back to top](#table)\n",
    "# <a id=lesson16>Lesson 16 - Tying It All Together</a>\n"
   ]
  },
  {
   "cell_type": "markdown",
   "metadata": {},
   "source": [
    "[Back to top](#table)\n",
    "# <a id=references>References</a>"
   ]
  },
  {
   "cell_type": "code",
   "execution_count": null,
   "metadata": {},
   "outputs": [],
   "source": []
  }
 ],
 "metadata": {
  "kernelspec": {
   "display_name": "Python 3",
   "language": "python",
   "name": "python3"
  },
  "language_info": {
   "codemirror_mode": {
    "name": "ipython",
    "version": 3
   },
   "file_extension": ".py",
   "mimetype": "text/x-python",
   "name": "python",
   "nbconvert_exporter": "python",
   "pygments_lexer": "ipython3",
   "version": "3.7.6"
  }
 },
 "nbformat": 4,
 "nbformat_minor": 4
}
