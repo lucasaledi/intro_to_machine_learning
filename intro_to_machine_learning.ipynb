{
 "cells": [
  {
   "cell_type": "markdown",
   "metadata": {},
   "source": [
    "# Introduction to Machine Learning\n",
    "## by Lucas Aledi\n",
    "#### based on [Udacity's Data Analyst Nanodegree extracurricular](https://www.udacity.com/course/data-analyst-nanodegree--nd002?utm_source=gsem_brand&utm_medium=ads_n&utm_campaign=8305564265_c&utm_term=89468963430&utm_keyword=udacity%20data%20analyst_e&gclid=CjwKCAiA6aSABhApEiwA6Cbm_-5FeQPY08ttIzuVyM-8dod7Mjd3kDrgRi3U-WVK2nOTPLOWkCX9sBoC4h0QAvD_BwE)"
   ]
  },
  {
   "cell_type": "markdown",
   "metadata": {},
   "source": [
    "### <a href=#table>Table of contents</a>\n",
    "#### <a href=#lesson1>Lesson 1 - Welcome to Machine Learning</a>\n",
    "#### <a href=#lesson2>Lesson 2 - Naive Bayes</a>\n",
    "#### <a href=#lesson3>Lesson 3 - SVM</a>\n",
    "#### <a href=#lesson4>Lesson 4 - Decision Trees</a>\n",
    "#### <a href=#lesson5>Lesson 5 - Choose Your Own Algorithm</a>\n",
    "#### <a href=#lesson6>Lesson 6 - Datasets and Questions</a>\n",
    "#### <a href=#lesson7>Lesson 7 - Regressions</a>\n",
    "#### <a href=#lesson8>Lesson 8 - Outliers</a>\n",
    "#### <a href=#lesson9>Lesson 9 - Clustering</a>\n",
    "#### <a href=#lesson10>Lesson 10 - Feature Scaling</a>\n",
    "#### <a href=#lesson11>Lesson 11 - Text Learning</a>\n",
    "#### <a href=#lesson12>Lesson 12 - Feature Selection</a>\n",
    "#### <a href=#lesson13>Lesson 13 - PCA</a>\n",
    "#### <a href=#lesson14>Lesson 14 - Validation</a>\n",
    "#### <a href=#lesson15>Lesson 15 - Evaluation Metrics</a>\n",
    "#### <a href=#lesson16>Lesson 16 - Tying It All Together</a>\n",
    "#### <a href=#references>References</a>"
   ]
  },
  {
   "cell_type": "markdown",
   "metadata": {},
   "source": [
    "[Back to top](#table)\n",
    "# <a id=lesson1 >Lesson 1 - Welcome to Machine Learning</a>\n",
    "\n",
    "Topics to add a quick summary (pre-requisites):\n",
    "- Linear Regression:\n",
    "\n",
    "Many data sets have an approximately linear relationship between variables. In cases like these, we can predict one variable using a known value for another using a [**best-fit line**](https://www.investopedia.com/terms/l/line-of-best-fit.asp), a line on the form $y= mx + b$ that follows the trends in the data as closesly as possible.\n",
    "<img src=\"img/img1.png\" width=300 height=300 />\n",
    "Here, $x$ is called the **predictor variable** and $y$ is often called the **response variable**.\n",
    "\n",
    "Of course, linear regression is not limited to just one predictor variable. The key concept behind it is the idea that a change in one or more predictor variables will produce a linear change in the response variable.\n",
    "\n",
    "At its core, ML is about taking in information and expanding on it, so it's natural that techniques from statistics play an important role in ML. It is possible to use statistical techniques to find a best-fit line, by first calculating five values about our data. If we represent our data set as a collection of points on a scatter plot, these values are the [means of $x$ and $y$](https://en.wikipedia.org/wiki/Mean), the [standard deviations of $x$ and $y$](https://en.wikipedia.org/wiki/Standard_deviation), and the [correlation coefficient](https://en.wikipedia.org/wiki/Correlation_coefficient).\n",
    "\n"
   ]
  },
  {
   "cell_type": "code",
   "execution_count": null,
   "metadata": {},
   "outputs": [],
   "source": []
  },
  {
   "cell_type": "markdown",
   "metadata": {},
   "source": [
    "[Back to top](#table)\n",
    "# <a id=lesson2>Lesson 2 - Naive Bayes</a>\n",
    "\n",
    "We shall start taking about **supervised classification**. For instance, self-driving cars are one big supervised classification problem. \n",
    "\n",
    "**Supervised classification** means that we start with a bunch of examples to which we know the correct answer. In other words, we train the machine by showing what's the right behaviour. This, in some sense, emulates the way humans learn: give them a lot of examples and they will eventually start figuring out what's going on.\n",
    "\n",
    "In this lesson we gonna se if we can make a car go fast or slow in specific moments using *supervised learning*. We'll look into a terrain classification problem\n",
    "\n",
    "**Acerous v Non-acerous**<br>\n",
    "Is a horse acerous or non-acerous?\n",
    "\n",
    "When looking at a new example, we have to figure out which parts of it to be paying attention to. Those are called **features**. So, when classifying animals, for example, a feature might be the color, the number of legs or whether it has horns and/or antlers. So, acerous are animals lacking horns and/or antlers and, thus, a horse would fit into it. \n",
    "\n",
    "That is, in general, what machine learning will be doing. We give it a bunch of examples and each one has a number of features, or attributes that we can use to describe it. And if we can pick out the right feature, and it is giving us the right information, we can classify new examples.\n",
    "\n",
    "**Features and Labels**<br>\n",
    "In ML, we often take **features** as input and try to produce (output) **labels**. Let's consider Spotify, for a moment:\n",
    "\n",
    "It takes a song (\"let it go\") and extracts its features (intensity, tempo, genre, gender of the voice, etc). Then, the user processes it into one of two categories: *Like* or *Don't Like*.\n",
    "\n",
    "**Decision Surface and scatter plots**<br>\n",
    "What ML algorithms do is that they take in data and transforms it into a **decision surface** and they tipically lie between different classes.\n",
    "\n",
    "**Naive Bayes**<br>\n",
    "[Naive Bayes](https://en.wikipedia.org/wiki/Naive_Bayes_classifier) is a very common algorithm to find a decision surface. We are going to use a python library called [scikit-learn](https://scikit-learn.org/stable/), often abbreviated as **sklearn**, and, of course, *naive bayes*, more specifically [**gaussian naive bayes**](https://scikit-learn.org/stable/modules/naive_bayes.html).\n",
    "\n",
    "So, let's start with a quick example:"
   ]
  },
  {
   "cell_type": "code",
   "execution_count": null,
   "metadata": {},
   "outputs": [],
   "source": [
    "import numpy as np\n",
    "\n",
    "# import relevant sklearn algorithm\n",
    "from sklearn.naive_bayes import GaussianNB\n",
    "\n",
    "# create training points\n",
    "X= np.array([[-1,-1], [-2,-1], [-3,-2], [1,1], [2,1], [3,2]])\n",
    "Y= np.array([1,1,1,2,2,2])\n",
    "\n",
    "# create classifier\n",
    "clf= GaussianNB()\n",
    "\n",
    "# fit/train ML learn the patterns\n",
    "## X are features\n",
    "## Y are lables\n",
    "### this is always true in supervised classification\n",
    "clf.fit(X,Y)\n",
    "\n",
    "print(clf.predict([[-0.8, -1]]))"
   ]
  },
  {
   "cell_type": "markdown",
   "metadata": {},
   "source": [
    "Let's try GaussianNB deployment on terrain data"
   ]
  },
  {
   "cell_type": "code",
   "execution_count": 3,
   "metadata": {
    "collapsed": true
   },
   "outputs": [
    {
     "ename": "TypeError",
     "evalue": "Object of type bytes is not JSON serializable",
     "output_type": "error",
     "traceback": [
      "\u001b[0;31m--------------------------------------------------------------\u001b[0m",
      "\u001b[0;31mTypeError\u001b[0m                    Traceback (most recent call last)",
      "\u001b[0;32m<ipython-input-3-78727ad1aeb8>\u001b[0m in \u001b[0;36m<module>\u001b[0;34m\u001b[0m\n\u001b[1;32m     33\u001b[0m \u001b[0mprettyPicture\u001b[0m\u001b[0;34m(\u001b[0m\u001b[0mclf\u001b[0m\u001b[0;34m,\u001b[0m \u001b[0mfeatures_test\u001b[0m\u001b[0;34m,\u001b[0m \u001b[0mlabels_test\u001b[0m\u001b[0;34m)\u001b[0m\u001b[0;34m\u001b[0m\u001b[0;34m\u001b[0m\u001b[0m\n\u001b[1;32m     34\u001b[0m output_image(\"lesson2_terrain_data/test.png\",\n\u001b[0;32m---> 35\u001b[0;31m              \"png\", open(\"lesson2_terrain_data/test.png\", \"rb\").read())\n\u001b[0m",
      "\u001b[0;32m~/Documents/intro_machine_learning/lesson2_terrain_data/class_vis.py\u001b[0m in \u001b[0;36moutput_image\u001b[0;34m(name, format, bytes)\u001b[0m\n\u001b[1;32m     58\u001b[0m     \u001b[0mdata\u001b[0m\u001b[0;34m[\u001b[0m\u001b[0;34m'format'\u001b[0m\u001b[0;34m]\u001b[0m \u001b[0;34m=\u001b[0m \u001b[0mformat\u001b[0m\u001b[0;34m\u001b[0m\u001b[0;34m\u001b[0m\u001b[0m\n\u001b[1;32m     59\u001b[0m     \u001b[0mdata\u001b[0m\u001b[0;34m[\u001b[0m\u001b[0;34m'bytes'\u001b[0m\u001b[0;34m]\u001b[0m \u001b[0;34m=\u001b[0m \u001b[0mbase64\u001b[0m\u001b[0;34m.\u001b[0m\u001b[0mencodestring\u001b[0m\u001b[0;34m(\u001b[0m\u001b[0mbytes\u001b[0m\u001b[0;34m)\u001b[0m\u001b[0;34m\u001b[0m\u001b[0;34m\u001b[0m\u001b[0m\n\u001b[0;32m---> 60\u001b[0;31m     \u001b[0mprint\u001b[0m\u001b[0;34m(\u001b[0m\u001b[0mimage_start\u001b[0m\u001b[0;34m+\u001b[0m\u001b[0mjson\u001b[0m\u001b[0;34m.\u001b[0m\u001b[0mdumps\u001b[0m\u001b[0;34m(\u001b[0m\u001b[0mdata\u001b[0m\u001b[0;34m)\u001b[0m\u001b[0;34m+\u001b[0m\u001b[0mimage_end\u001b[0m\u001b[0;34m)\u001b[0m\u001b[0;34m\u001b[0m\u001b[0;34m\u001b[0m\u001b[0m\n\u001b[0m",
      "\u001b[0;32m~/anaconda3/envs/project2/lib/python3.7/json/__init__.py\u001b[0m in \u001b[0;36mdumps\u001b[0;34m(obj, skipkeys, ensure_ascii, check_circular, allow_nan, cls, indent, separators, default, sort_keys, **kw)\u001b[0m\n\u001b[1;32m    229\u001b[0m         \u001b[0mcls\u001b[0m \u001b[0;32mis\u001b[0m \u001b[0;32mNone\u001b[0m \u001b[0;32mand\u001b[0m \u001b[0mindent\u001b[0m \u001b[0;32mis\u001b[0m \u001b[0;32mNone\u001b[0m \u001b[0;32mand\u001b[0m \u001b[0mseparators\u001b[0m \u001b[0;32mis\u001b[0m \u001b[0;32mNone\u001b[0m \u001b[0;32mand\u001b[0m\u001b[0;34m\u001b[0m\u001b[0;34m\u001b[0m\u001b[0m\n\u001b[1;32m    230\u001b[0m         default is None and not sort_keys and not kw):\n\u001b[0;32m--> 231\u001b[0;31m         \u001b[0;32mreturn\u001b[0m \u001b[0m_default_encoder\u001b[0m\u001b[0;34m.\u001b[0m\u001b[0mencode\u001b[0m\u001b[0;34m(\u001b[0m\u001b[0mobj\u001b[0m\u001b[0;34m)\u001b[0m\u001b[0;34m\u001b[0m\u001b[0;34m\u001b[0m\u001b[0m\n\u001b[0m\u001b[1;32m    232\u001b[0m     \u001b[0;32mif\u001b[0m \u001b[0mcls\u001b[0m \u001b[0;32mis\u001b[0m \u001b[0;32mNone\u001b[0m\u001b[0;34m:\u001b[0m\u001b[0;34m\u001b[0m\u001b[0;34m\u001b[0m\u001b[0m\n\u001b[1;32m    233\u001b[0m         \u001b[0mcls\u001b[0m \u001b[0;34m=\u001b[0m \u001b[0mJSONEncoder\u001b[0m\u001b[0;34m\u001b[0m\u001b[0;34m\u001b[0m\u001b[0m\n",
      "\u001b[0;32m~/anaconda3/envs/project2/lib/python3.7/json/encoder.py\u001b[0m in \u001b[0;36mencode\u001b[0;34m(self, o)\u001b[0m\n\u001b[1;32m    197\u001b[0m         \u001b[0;31m# exceptions aren't as detailed.  The list call should be roughly\u001b[0m\u001b[0;34m\u001b[0m\u001b[0;34m\u001b[0m\u001b[0;34m\u001b[0m\u001b[0m\n\u001b[1;32m    198\u001b[0m         \u001b[0;31m# equivalent to the PySequence_Fast that ''.join() would do.\u001b[0m\u001b[0;34m\u001b[0m\u001b[0;34m\u001b[0m\u001b[0;34m\u001b[0m\u001b[0m\n\u001b[0;32m--> 199\u001b[0;31m         \u001b[0mchunks\u001b[0m \u001b[0;34m=\u001b[0m \u001b[0mself\u001b[0m\u001b[0;34m.\u001b[0m\u001b[0miterencode\u001b[0m\u001b[0;34m(\u001b[0m\u001b[0mo\u001b[0m\u001b[0;34m,\u001b[0m \u001b[0m_one_shot\u001b[0m\u001b[0;34m=\u001b[0m\u001b[0;32mTrue\u001b[0m\u001b[0;34m)\u001b[0m\u001b[0;34m\u001b[0m\u001b[0;34m\u001b[0m\u001b[0m\n\u001b[0m\u001b[1;32m    200\u001b[0m         \u001b[0;32mif\u001b[0m \u001b[0;32mnot\u001b[0m \u001b[0misinstance\u001b[0m\u001b[0;34m(\u001b[0m\u001b[0mchunks\u001b[0m\u001b[0;34m,\u001b[0m \u001b[0;34m(\u001b[0m\u001b[0mlist\u001b[0m\u001b[0;34m,\u001b[0m \u001b[0mtuple\u001b[0m\u001b[0;34m)\u001b[0m\u001b[0;34m)\u001b[0m\u001b[0;34m:\u001b[0m\u001b[0;34m\u001b[0m\u001b[0;34m\u001b[0m\u001b[0m\n\u001b[1;32m    201\u001b[0m             \u001b[0mchunks\u001b[0m \u001b[0;34m=\u001b[0m \u001b[0mlist\u001b[0m\u001b[0;34m(\u001b[0m\u001b[0mchunks\u001b[0m\u001b[0;34m)\u001b[0m\u001b[0;34m\u001b[0m\u001b[0;34m\u001b[0m\u001b[0m\n",
      "\u001b[0;32m~/anaconda3/envs/project2/lib/python3.7/json/encoder.py\u001b[0m in \u001b[0;36miterencode\u001b[0;34m(self, o, _one_shot)\u001b[0m\n\u001b[1;32m    255\u001b[0m                 \u001b[0mself\u001b[0m\u001b[0;34m.\u001b[0m\u001b[0mkey_separator\u001b[0m\u001b[0;34m,\u001b[0m \u001b[0mself\u001b[0m\u001b[0;34m.\u001b[0m\u001b[0mitem_separator\u001b[0m\u001b[0;34m,\u001b[0m \u001b[0mself\u001b[0m\u001b[0;34m.\u001b[0m\u001b[0msort_keys\u001b[0m\u001b[0;34m,\u001b[0m\u001b[0;34m\u001b[0m\u001b[0;34m\u001b[0m\u001b[0m\n\u001b[1;32m    256\u001b[0m                 self.skipkeys, _one_shot)\n\u001b[0;32m--> 257\u001b[0;31m         \u001b[0;32mreturn\u001b[0m \u001b[0m_iterencode\u001b[0m\u001b[0;34m(\u001b[0m\u001b[0mo\u001b[0m\u001b[0;34m,\u001b[0m \u001b[0;36m0\u001b[0m\u001b[0;34m)\u001b[0m\u001b[0;34m\u001b[0m\u001b[0;34m\u001b[0m\u001b[0m\n\u001b[0m\u001b[1;32m    258\u001b[0m \u001b[0;34m\u001b[0m\u001b[0m\n\u001b[1;32m    259\u001b[0m def _make_iterencode(markers, _default, _encoder, _indent, _floatstr,\n",
      "\u001b[0;32m~/anaconda3/envs/project2/lib/python3.7/json/encoder.py\u001b[0m in \u001b[0;36mdefault\u001b[0;34m(self, o)\u001b[0m\n\u001b[1;32m    177\u001b[0m \u001b[0;34m\u001b[0m\u001b[0m\n\u001b[1;32m    178\u001b[0m         \"\"\"\n\u001b[0;32m--> 179\u001b[0;31m         raise TypeError(f'Object of type {o.__class__.__name__} '\n\u001b[0m\u001b[1;32m    180\u001b[0m                         f'is not JSON serializable')\n\u001b[1;32m    181\u001b[0m \u001b[0;34m\u001b[0m\u001b[0m\n",
      "\u001b[0;31mTypeError\u001b[0m: Object of type bytes is not JSON serializable"
     ]
    },
    {
     "data": {
      "image/png": "[encoded data removed]",
      "text/plain": [
       "<Figure size 432x288 with 1 Axes>"
      ]
     },
     "metadata": {
      "needs_background": "light"
     },
     "output_type": "display_data"
    }
   ],
   "source": [
    "\"\"\" \n",
    "    Check the code in ClassifyNB.py which contains the sklearn\n",
    "    Naive Bayes classifier to classify the terrain data.\n",
    "    \n",
    "    The objective of this exercise is to create a decision \n",
    "    boundary and make a plot that visually shows the decision \n",
    "    boundary \n",
    "\"\"\"\n",
    "\n",
    "from lesson2_terrain_data.prep_terrain_data import makeTerrainData\n",
    "from lesson2_terrain_data.class_vis import prettyPicture, output_image\n",
    "from lesson2_terrain_data.ClassifyNB import classify\n",
    "import numpy as np\n",
    "import pylab as pl\n",
    "%matplotlib inline\n",
    "\n",
    "features_train, labels_train, features_test, labels_test = makeTerrainData()\n",
    "\n",
    "### the training data (features_train, labels_train) have both \"fast\" and \"slow\" points mixed\n",
    "### in together--separate them so we can give them different colors in the scatterplot,\n",
    "### and visually identify them\n",
    "grade_fast = [features_train[ii][0] for ii in range(0, len(features_train)) if labels_train[ii]==0]\n",
    "bumpy_fast = [features_train[ii][1] for ii in range(0, len(features_train)) if labels_train[ii]==0]\n",
    "grade_slow = [features_train[ii][0] for ii in range(0, len(features_train)) if labels_train[ii]==1]\n",
    "bumpy_slow = [features_train[ii][1] for ii in range(0, len(features_train)) if labels_train[ii]==1]\n",
    "\n",
    "\n",
    "# You will need to complete this function imported from the ClassifyNB script.\n",
    "# Be sure to change to that code tab to complete this quiz.\n",
    "clf = classify(features_train, labels_train)\n",
    "\n",
    "\n",
    "\n",
    "### draw the decision boundary with the text points overlaid\n",
    "prettyPicture(clf, features_test, labels_test)\n",
    "output_image(\"lesson2_terrain_data/test.png\",\n",
    "             \"png\", open(\"lesson2_terrain_data/test.png\", \"rb\").read())"
   ]
  },
  {
   "cell_type": "markdown",
   "metadata": {},
   "source": [
    "**NOTE**\n",
    "\n",
    "For some reason, this error *(TypeError: Object of type bytes is not JSON serializable)* is shown. But the image is loading successfully. Need to further investigate to understand its causes."
   ]
  },
  {
   "cell_type": "markdown",
   "metadata": {},
   "source": [
    "The next thing we need to do is to evaluate our classifier and quantify how well it's doing at classifying points: whether they're terrain that we can drive faster on or terrain that we have to go more slowly.\n",
    "\n",
    "[There are a number of metrics to evaluate our ML algorithm](https://towardsdatascience.com/metrics-to-evaluate-your-machine-learning-algorithm-f10ba6e38234), for example, *logarithmic loss*, *confusion matrix*, *area under curve*, *F1 score*, *mean absolute error*, *mean squared error*. The one we'll use for this case is the *classification accuracy*.\n",
    "\n",
    "**Accuracy** is just the number of points that are classified correctly divided by the total number of points in the test set. `sklearn` has a function called [`accuracy_score`](https://scikit-learn.org/stable/modules/generated/sklearn.metrics.accuracy_score.html#sklearn-metrics-accuracy-score) that takes a bunch of predictions and labels and then goes through them doing an element by element comparison. Let's give it a try:"
   ]
  },
  {
   "cell_type": "code",
   "execution_count": 7,
   "metadata": {},
   "outputs": [
    {
     "data": {
      "text/plain": [
       "0.884"
      ]
     },
     "execution_count": 7,
     "metadata": {},
     "output_type": "execute_result"
    }
   ],
   "source": [
    "from lesson2_terrain_data.class_vis import prettyPicture\n",
    "from lesson2_terrain_data.prep_terrain_data import makeTerrainData\n",
    "from lesson2_terrain_data.classify import NBAccuracy\n",
    "\n",
    "import matplotlib.pyplot as plt\n",
    "import numpy as np\n",
    "import pylab as pl\n",
    "%matplotlib inline\n",
    "\n",
    "features_train, labels_train, features_test, labels_test = makeTerrainData()\n",
    "\n",
    "def submitAccuracy():\n",
    "    accuracy = NBAccuracy(features_train, labels_train, features_test, labels_test)\n",
    "    return accuracy\n",
    "\n",
    "submitAccuracy()"
   ]
  },
  {
   "cell_type": "markdown",
   "metadata": {},
   "source": [
    "One thins that has become obvious so far is that we have been using 2 sets of data: one for training and other for testing the algorithm. That's actually really important: **in ML, we always train and test on different data**. If we don't pay attention to this, what can happen is we could [**overfit**](https://en.wikipedia.org/wiki/Overfitting) to our training data. That's to say, we can think that we know better what's going on than we actually know. So, throuhgh out this lessons, we'll keep 10% of data as our test set."
   ]
  },
  {
   "cell_type": "markdown",
   "metadata": {},
   "source": [
    "[**Bayes' Theorem and Conditional Probability**](https://brilliant.org/wiki/bayes-theorem/)\n",
    "\n",
    "Bayes rule provides us with a way to update our beliefs based on the arrival of new, relevant pieces of evidence. In other words, it centers on relating conditional probabilities. A conditional probability is an expression of how probable one event is *given that* some other event occurred (a fixed value). \n",
    "\n",
    "For example, if we were trying to provide the probability that a given person has cancer, we would initially just say it is whatever percent of the population has cancer. However, given additional evidence such as the fact that the person is a smoker, we can update our probability, since the probability of having cancer is higher given that the person is a smoker. This allows us to utilize prior knowledge to improve our probability estimations. \n",
    "\n",
    "The below equation is Bayes rule:\n",
    "\n",
    "<img src=\"img/img2.png\" width=300 height=300 />\n",
    "\n",
    "In this formula, **A** is the event we want the probability of, and **B** is the new evidence that is related to A in some way.\n",
    "\n",
    "`P(A|B)` is called the **posterior**; this is what we are trying to estimate. In the above example, this would be the *“probability of having cancer given that the person is a smoker”*.\n",
    "\n",
    "`P(B|A)` is called the **likelihood**; this is the probability of observing the new evidence, given our initial hypothesis. In the above example, this would be the *“probability of being a smoker given that the person has cancer”*.\n",
    "\n",
    "`P(A)` is called the **prior**; this is the probability of our hypothesis without any additional prior information. In the above example, this would be the *“probability of having cancer”*.\n",
    "\n",
    "`P(B)` is called the **marginal likelihood**; this is the total probability of observing the evidence. In the above example, this would be the *“probability of being a smoker”*. In many applications of Bayes Rule, this is ignored, as it mainly serves as normalization.\n",
    "\n",
    "[**Why is it called Naïve Bayes?**](https://www.javatpoint.com/machine-learning-naive-bayes-classifier)\n",
    "\n",
    "*Naïve*: It is called Naïve because it assumes that the occurrence of a certain feature is independent of the occurrence of other features. Such as if the fruit is identified on the bases of color, shape, and taste, then red, spherical, and sweet fruit is recognized as an apple. Hence each feature individually contributes to identify that it is an apple without depending on each other.\n",
    "\n",
    "*Bayes*: It is called Bayes because it depends on the principle of Bayes' Theorem described above.\n",
    "\n",
    "\n",
    "**Naïve Bayes Strengths and Weaknesses**\n",
    "A couple of things NB does really elegantly:\n",
    "- Easy to implement;\n",
    "\n",
    "A few things NB doesn't do as well:\n",
    "- It easily breaks (e.g., Google and Chicago Bulls);\n",
    "- Phrases with similar words but distinct meanings don't work well.\n",
    "\n",
    "So, choosing the right algorithm depends on the problem we're trying to solve and the data set we have to solve it. We shouldn't think of supervised classification algorithms as black boxes. But, instead, we should of it in terms of the theoretical understanding of how the algorithm works and whether that's right for our problem and data set."
   ]
  },
  {
   "cell_type": "markdown",
   "metadata": {},
   "source": [
    "[Back to top](#table)\n",
    "# <a id=lesson3>Lesson 3 - SVM or Support Vector Machine</a>\n",
    "Invented by [Vladimir Vapnik](https://g.co/kgs/NtbgEf), Support Vector Machine or SVM is a fairly new algorithm in machine learning. Very superficially, what SVM does is to find a line, more generally called a hyperplane, between data of two classes.\n",
    "\n",
    "<table><tr>\n",
    "<td><img src=\"img/img3.png\" width=300 height=300 /><br/>possible lines</td> \n",
    "<td><img src=\"img/img4.png\" width=300 height=300 /><br/>line that maximizes margin</td>\n",
    "</tr></table>\n",
    "\n"
   ]
  },
  {
   "cell_type": "code",
   "execution_count": null,
   "metadata": {},
   "outputs": [],
   "source": []
  },
  {
   "cell_type": "markdown",
   "metadata": {},
   "source": [
    "[Back to top](#table)\n",
    "# <a href=lesson4>Lesson 4 - Decision Trees</a>\n"
   ]
  },
  {
   "cell_type": "markdown",
   "metadata": {},
   "source": [
    "[Back to top](#table)\n",
    "# <a id=lesson5>Lesson 5 - Choose Your Own Algorithm</a>\n"
   ]
  },
  {
   "cell_type": "code",
   "execution_count": null,
   "metadata": {},
   "outputs": [],
   "source": []
  },
  {
   "cell_type": "markdown",
   "metadata": {},
   "source": [
    "[Back to top](#table)\n",
    "# <a id=lesson6>Lesson 6 - Datasets and Questions</a>\n"
   ]
  },
  {
   "cell_type": "code",
   "execution_count": null,
   "metadata": {},
   "outputs": [],
   "source": []
  },
  {
   "cell_type": "markdown",
   "metadata": {},
   "source": [
    "[Back to top](#table)\n",
    "# <a id=lesson7>Lesson 7 - Regressions</a>\n"
   ]
  },
  {
   "cell_type": "code",
   "execution_count": null,
   "metadata": {},
   "outputs": [],
   "source": []
  },
  {
   "cell_type": "markdown",
   "metadata": {},
   "source": [
    "[Back to top](#table)\n",
    "# <a id=lesson8>Lesson 8 - Outliers</a>\n"
   ]
  },
  {
   "cell_type": "code",
   "execution_count": null,
   "metadata": {},
   "outputs": [],
   "source": []
  },
  {
   "cell_type": "markdown",
   "metadata": {},
   "source": [
    "[Back to top](#table)\n",
    "# <a id=lesson9>Lesson 9 - Clustering</a>\n"
   ]
  },
  {
   "cell_type": "code",
   "execution_count": null,
   "metadata": {},
   "outputs": [],
   "source": []
  },
  {
   "cell_type": "markdown",
   "metadata": {},
   "source": [
    "[Back to top](#table)\n",
    "# <a id=lesson10>Lesson 10 - Feature Scaling</a>\n"
   ]
  },
  {
   "cell_type": "code",
   "execution_count": null,
   "metadata": {},
   "outputs": [],
   "source": []
  },
  {
   "cell_type": "markdown",
   "metadata": {},
   "source": [
    "[Back to top](#table)\n",
    "# <a id=lesson11>Lesson 11 - Text Learning</a>\n"
   ]
  },
  {
   "cell_type": "code",
   "execution_count": null,
   "metadata": {},
   "outputs": [],
   "source": []
  },
  {
   "cell_type": "markdown",
   "metadata": {},
   "source": [
    "[Back to top](#table)\n",
    "# <a id=lesson12>Lesson 12 - Feature Selection</a>\n"
   ]
  },
  {
   "cell_type": "code",
   "execution_count": null,
   "metadata": {},
   "outputs": [],
   "source": []
  },
  {
   "cell_type": "markdown",
   "metadata": {},
   "source": [
    "[Back to top](#table)\n",
    "# <a id=lesson13>Lesson 13 - PCA</a>\n"
   ]
  },
  {
   "cell_type": "code",
   "execution_count": null,
   "metadata": {},
   "outputs": [],
   "source": []
  },
  {
   "cell_type": "markdown",
   "metadata": {},
   "source": [
    "[Back to top](#table)\n",
    "# <a id=lesson14>Lesson 14 - Validation</a>\n"
   ]
  },
  {
   "cell_type": "code",
   "execution_count": null,
   "metadata": {},
   "outputs": [],
   "source": []
  },
  {
   "cell_type": "markdown",
   "metadata": {},
   "source": [
    "[Back to top](#table)\n",
    "# <a id=lesson15>Lesson 15 - Evaluation Metrics</a>\n"
   ]
  },
  {
   "cell_type": "code",
   "execution_count": null,
   "metadata": {},
   "outputs": [],
   "source": []
  },
  {
   "cell_type": "markdown",
   "metadata": {},
   "source": [
    "[Back to top](#table)\n",
    "# <a id=lesson16>Lesson 16 - Tying It All Together</a>\n"
   ]
  },
  {
   "cell_type": "code",
   "execution_count": null,
   "metadata": {},
   "outputs": [],
   "source": []
  },
  {
   "cell_type": "markdown",
   "metadata": {},
   "source": [
    "[Back to top](#table)\n",
    "# <a id=references>References</a>\n",
    "\n",
    "Naïve Bayes:\n",
    "- [best-fit line](https://www.investopedia.com/terms/l/line-of-best-fit.asp)\n",
    "- [means of $x$ and $y$](https://en.wikipedia.org/wiki/Mean)\n",
    "- [standard deviations of $x$ and $y$](https://en.wikipedia.org/wiki/Standard_deviation)\n",
    "- [correlation coefficient](https://en.wikipedia.org/wiki/Correlation_coefficient)\n",
    "- [scikit-learn](https://scikit-learn.org/stable/)\n",
    "- [gaussian naive bayes](https://scikit-learn.org/stable/modules/naive_bayes.html)\n",
    "- [Metrics to Evaluate your Machine Learning Algorithm](https://towardsdatascience.com/metrics-to-evaluate-your-machine-learning-algorithm-f10ba6e38234)\n",
    "- [Overfitting in Machine Learning: What It Is and How to Prevent It](https://elitedatascience.com/overfitting-in-machine-learning)\n",
    "- [What is Bayes Rule?](https://towardsdatascience.com/what-is-bayes-rule-bb6598d8a2fd)\n",
    "- [Bayes' Theorem and Conditional Probability](https://brilliant.org/wiki/bayes-theorem/)\n",
    "- [Naïve Bayes Classifier Algorithm](https://www.javatpoint.com/machine-learning-naive-bayes-classifier)\n",
    "\n",
    "SVM:\n",
    "- [Support Vector Machine — Introduction to Machine Learning Algorithms](https://towardsdatascience.com/support-vector-machine-introduction-to-machine-learning-algorithms-934a444fca47)"
   ]
  },
  {
   "cell_type": "markdown",
   "metadata": {},
   "source": []
  }
 ],
 "metadata": {
  "kernelspec": {
   "display_name": "Python 3",
   "language": "python",
   "name": "python3"
  },
  "language_info": {
   "codemirror_mode": {
    "name": "ipython",
    "version": 3
   },
   "file_extension": ".py",
   "mimetype": "text/x-python",
   "name": "python",
   "nbconvert_exporter": "python",
   "pygments_lexer": "ipython3",
   "version": "3.7.6"
  }
 },
 "nbformat": 4,
 "nbformat_minor": 4
}
